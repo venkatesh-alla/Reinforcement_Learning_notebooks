{
 "cells": [
  {
   "cell_type": "code",
   "execution_count": null,
   "metadata": {},
   "outputs": [],
   "source": [
    "import math\n",
    "import random\n",
    "\n",
    "import gym\n",
    "import numpy as np\n",
    "\n",
    "import torch\n",
    "import torch.nn as nn\n",
    "import torch.optim as optim\n",
    "import torch.nn.functional as F\n",
    "from torch.distributions import Normal, Categorical\n",
    "from IPython.display import clear_output\n",
    "import matplotlib.pyplot as plt"
   ]
  },
  {
   "cell_type": "code",
   "execution_count": null,
   "metadata": {},
   "outputs": [],
   "source": [
    "env_name = 'CartPole-v0'\n",
    "env = gym.make(env_name)"
   ]
  },
  {
   "cell_type": "code",
   "execution_count": null,
   "metadata": {},
   "outputs": [],
   "source": [
    "class RL(nn.Module):\n",
    "    def __init__(self, action_num=2, hidden_size=256):\n",
    "        super(RL, self).__init__()\n",
    "        self.fc_actor1 = nn.Linear(4, hidden_size)\n",
    "        self.fc_actor2 = nn.Linear(hidden_size, action_num)\n",
    "\n",
    "        self.fc_critic1 = nn.Linear(4, hidden_size)\n",
    "        self.fc_critic2 = nn.Linear(hidden_size, 1)\n",
    "\n",
    "    def forward(self, x):\n",
    "        ax = F.relu(self.fc_actor1(x))\n",
    "        dist = Categorical(logits = self.fc_actor2(ax))\n",
    "                   \n",
    "        cx = F.relu(self.fc_critic1(x))\n",
    "        value = self.fc_critic2(cx)\n",
    "        return dist, value"
   ]
  },
  {
   "cell_type": "code",
   "execution_count": null,
   "metadata": {},
   "outputs": [],
   "source": [
    "def calc_returns(rewards, gamma = 0.99):\n",
    "    returns = []\n",
    "    delta = 0\n",
    "    for reward in rewards[::-1]:\n",
    "        #Bug fixed on this line\n",
    "        delta = reward + gamma*delta\n",
    "        returns.insert(0, delta)\n",
    "    return returns\n",
    "\n",
    "def test_agent():\n",
    "    done = False\n",
    "    total_reward = 0\n",
    "    observation = torch.FloatTensor(env.reset()).unsqueeze(0)\n",
    "\n",
    "    with torch.no_grad():\n",
    "        while not done:\n",
    "            dist, _ = rl_model(observation)\n",
    "            action = dist.sample().cpu().item()\n",
    "            observation, reward, done, info = env.step(action)\n",
    "            \n",
    "            observation = torch.FloatTensor(observation).unsqueeze(0)\n",
    "            total_reward += reward\n",
    "            \n",
    "    return total_reward"
   ]
  },
  {
   "cell_type": "code",
   "execution_count": null,
   "metadata": {},
   "outputs": [],
   "source": [
    "rl_model = RL()\n",
    "lr = 1e-3\n",
    "optimizer = optim.Adam(rl_model.parameters(), lr=lr)"
   ]
  },
  {
   "cell_type": "code",
   "execution_count": null,
   "metadata": {},
   "outputs": [],
   "source": [
    "max_steps = 100000\n",
    "rollouts = 0\n",
    "step = 0\n",
    "score_logger = []"
   ]
  },
  {
   "cell_type": "code",
   "execution_count": null,
   "metadata": {},
   "outputs": [],
   "source": [
    "while step < max_steps:\n",
    "    observation =  torch.FloatTensor(env.reset()).unsqueeze(0)\n",
    "    done = False\n",
    "    rewards = []\n",
    "    values = []\n",
    "    log_probs = []\n",
    "    \n",
    "    while not done:\n",
    "        dist, value = rl_model(observation)\n",
    "        action = dist.sample()\n",
    "        log_prob = dist.log_prob(action.unsqueeze(0))\n",
    "        \n",
    "        observation, reward, done, info = env.step(action.cpu().item())\n",
    "        \n",
    "        observation = torch.FloatTensor(observation).unsqueeze(0)\n",
    "        reward = torch.FloatTensor([reward]).unsqueeze(0)\n",
    "\n",
    "        rewards.append(reward)\n",
    "        values.append(value)\n",
    "        log_probs.append(log_prob)\n",
    "        step +=1\n",
    "    \n",
    "    returns = calc_returns(rewards)\n",
    "    \n",
    "    returns = torch.cat(returns, 1)\n",
    "    log_probs = torch.cat(log_probs, 1)\n",
    "    values = torch.cat(values, 1)\n",
    "    advantage = (returns - values).detach()\n",
    "    \n",
    "    action_loss = - (log_probs * advantage).mean()\n",
    "    critic_loss = (returns - values).pow(2).mean()\n",
    "    agent_loss = action_loss + critic_loss\n",
    "    \n",
    "    optimizer.zero_grad()\n",
    "    agent_loss.backward()\n",
    "    optimizer.step()\n",
    "    rollouts += 1\n",
    "    \n",
    "    if rollouts % 10 == 0:\n",
    "        new_lr = ((max_steps - step)/max_steps) * lr\n",
    "        optimizer.param_groups[0][\"lr\"] = new_lr\n",
    "        \n",
    "        score_logger.append(np.mean([test_agent() for _ in range(10)]))\n",
    "        clear_output(True)\n",
    "        plt.plot(score_logger)\n",
    "        plt.show()\n",
    "    \n",
    "env.close()"
   ]
  },
  {
   "cell_type": "code",
   "execution_count": null,
   "metadata": {},
   "outputs": [],
   "source": [
    "value"
   ]
  },
  {
   "cell_type": "code",
   "execution_count": null,
   "metadata": {},
   "outputs": [],
   "source": [
    "plt.plot(score_logger)"
   ]
  },
  {
   "cell_type": "code",
   "execution_count": null,
   "metadata": {},
   "outputs": [],
   "source": []
  }
 ],
 "metadata": {
  "kernelspec": {
   "display_name": "Python 3",
   "language": "python",
   "name": "python3"
  },
  "language_info": {
   "codemirror_mode": {
    "name": "ipython",
    "version": 3
   },
   "file_extension": ".py",
   "mimetype": "text/x-python",
   "name": "python",
   "nbconvert_exporter": "python",
   "pygments_lexer": "ipython3",
   "version": "3.6.9"
  }
 },
 "nbformat": 4,
 "nbformat_minor": 2
}
